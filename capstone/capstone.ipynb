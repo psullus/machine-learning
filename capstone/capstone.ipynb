{
 "cells": [
  {
   "cell_type": "markdown",
   "metadata": {},
   "source": [
    "# Project: Business Public Sentiment\n",
    "\n",
    "Design a model to predict the sentiment (positive or negative) of text and apply it to the twitter feed of a business.\n"
   ]
  },
  {
   "cell_type": "markdown",
   "metadata": {},
   "source": [
    "## Structure\n",
    "\n",
    "Take a look at the files in the directory to better understand the structure of the project. \n",
    "\n",
    "- `data/`: Folder containing the training and test data.\n",
    "- `models/`: Folder containing models.\n",
    "    - `baseline_model.py`: A baseline model to start with.\n",
    "    - `model.py`: The final model.\n"
   ]
  },
  {
   "cell_type": "markdown",
   "metadata": {},
   "source": [
    "## Understanding the data-set\n",
    "\n",
    "The training data was in a single cvs file which was over 200M in size so I've split the file into smaller files for easy of use. You can also see the testdata which is very small relative to the amount of training data."
   ]
  },
  {
   "cell_type": "code",
   "execution_count": 2,
   "metadata": {},
   "outputs": [
    {
     "name": "stdout",
     "output_type": "stream",
     "text": [
      "List all the files in the data directory\n",
      "\n",
      "splitfile_1.csv\n",
      "splitfile_10.csv\n",
      "splitfile_11.csv\n",
      "splitfile_12.csv\n",
      "splitfile_13.csv\n",
      "splitfile_14.csv\n",
      "splitfile_15.csv\n",
      "splitfile_16.csv\n",
      "splitfile_2.csv\n",
      "splitfile_3.csv\n",
      "splitfile_4.csv\n",
      "splitfile_5.csv\n",
      "splitfile_6.csv\n",
      "splitfile_7.csv\n",
      "splitfile_8.csv\n",
      "splitfile_9.csv\n",
      "testdata.manual.2009.06.14.csv\n"
     ]
    }
   ],
   "source": [
    "print(\"List all the files in the data directory\\n\")\n",
    "!ls data"
   ]
  },
  {
   "cell_type": "code",
   "execution_count": 46,
   "metadata": {},
   "outputs": [
    {
     "data": {
      "text/plain": [
       "array([<matplotlib.axes._subplots.AxesSubplot object at 0x000002A94EBDCA58>,\n",
       "       <matplotlib.axes._subplots.AxesSubplot object at 0x000002A9093E2470>],\n",
       "      dtype=object)"
      ]
     },
     "execution_count": 46,
     "metadata": {},
     "output_type": "execute_result"
    },
    {
     "data": {
      "image/png": "[encoded data removed]",
      "text/plain": [
       "<Figure size 432x288 with 1 Axes>"
      ]
     },
     "metadata": {
      "needs_background": "light"
     },
     "output_type": "display_data"
    },
    {
     "data": {
      "image/png": "[encoded data removed]",
      "text/plain": [
       "<Figure size 720x288 with 2 Axes>"
      ]
     },
     "metadata": {
      "needs_background": "light"
     },
     "output_type": "display_data"
    }
   ],
   "source": [
    "import pandas as pd\n",
    "from sklearn.feature_extraction.text import CountVectorizer\n",
    "import matplotlib.pyplot as plt\n",
    "import seaborn as sns\n",
    "%matplotlib inline\n",
    "\n",
    "# Load the data\n",
    "dataframe = pd.read_csv(\"data/training.1600000.processed.noemoticon.csv\", sep=',', names=['labels','id', 'data', 'query', 'user', 'text'], encoding='ISO-8859-1', header=None)\n",
    "#dataframe.head()\n",
    "\n",
    "# Preprocess the data\n",
    "twitterData = dataframe.drop(columns=['id', 'data', 'query', 'user'])\n",
    "twitterData.head()\n",
    "#twitterData.describe()\n",
    "twitterData.groupby('labels').describe()\n",
    "\n",
    "twitterData['length'] = twitterData['text'].apply(len)\n",
    "twitterData.head()\n",
    "\n",
    "twitterData['length'].plot(bins=50, kind = 'hist')\n",
    "\n",
    "twitterData.hist(column='length', by='labels',bins=50,figsize = (10,4))\n",
    "\n",
    "#twitterData.info()\n",
    "#count_vector = CountVectorizer()\n",
    "#count_vector.fit(twitterData)\n",
    "#count_vector.get_feature_names()\n",
    "#doc_array = count_vector.transform(twitterData).toarray()\n",
    "#doc_array"
   ]
  },
  {
   "cell_type": "code",
   "execution_count": null,
   "metadata": {},
   "outputs": [],
   "source": []
  }
 ],
 "metadata": {
  "anaconda-cloud": {},
  "kernelspec": {
   "display_name": "Python 3",
   "language": "python",
   "name": "python3"
  },
  "language_info": {
   "codemirror_mode": {
    "name": "ipython",
    "version": 3
   },
   "file_extension": ".py",
   "mimetype": "text/x-python",
   "name": "python",
   "nbconvert_exporter": "python",
   "pygments_lexer": "ipython3",
   "version": "3.7.1"
  }
 },
 "nbformat": 4,
 "nbformat_minor": 2
}
