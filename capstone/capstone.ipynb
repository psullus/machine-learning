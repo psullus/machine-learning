{
 "cells": [
  {
   "cell_type": "markdown",
   "metadata": {},
   "source": [
    "# Project: Business Public Sentiment\n",
    "\n",
    "Design a model to predict the sentiment (positive or negative) of text and apply it to the twitter feed of a business.\n"
   ]
  },
  {
   "cell_type": "markdown",
   "metadata": {},
   "source": [
    "## Structure\n",
    "\n",
    "Take a look at the files in the directory to better understand the structure of the project. \n",
    "\n",
    "- `data/`: Folder containing the training and test data.\n",
    "- `models/`: Folder containing models.\n",
    "    - `baseline_model.py`: A baseline model to start with.\n",
    "    - `model.py`: The final model.\n"
   ]
  },
  {
   "cell_type": "markdown",
   "metadata": {},
   "source": [
    "## Understanding the data-set\n",
    "\n",
    "The training data was in a single cvs file which was over 200M in size so I've split the file into smaller files for easy of use. You can also see the testdata which is very small relative to the amount of training data."
   ]
  },
  {
   "cell_type": "code",
   "execution_count": 1,
   "metadata": {},
   "outputs": [
    {
     "name": "stdout",
     "output_type": "stream",
     "text": [
      "List all the files in the data directory\n",
      "\n",
      "testdata.manual.2009.06.14.csv\n",
      "training.500000.processed.noemoticon.csv\n"
     ]
    }
   ],
   "source": [
    "print(\"List all the files in the data directory\\n\")\n",
    "!ls data"
   ]
  },
  {
   "cell_type": "code",
   "execution_count": 2,
   "metadata": {},
   "outputs": [],
   "source": [
    "# Import libraries\n",
    "import pandas as pd\n",
    "import matplotlib.pyplot as plt\n",
    "import seaborn as sns\n",
    "from sklearn.feature_extraction.text import CountVectorizer\n",
    "from models.model import Model\n",
    "%matplotlib inline"
   ]
  },
  {
   "cell_type": "code",
   "execution_count": 3,
   "metadata": {},
   "outputs": [
    {
     "data": {
      "text/html": [
       "<div>\n",
       "<style scoped>\n",
       "    .dataframe tbody tr th:only-of-type {\n",
       "        vertical-align: middle;\n",
       "    }\n",
       "\n",
       "    .dataframe tbody tr th {\n",
       "        vertical-align: top;\n",
       "    }\n",
       "\n",
       "    .dataframe thead th {\n",
       "        text-align: right;\n",
       "    }\n",
       "</style>\n",
       "<table border=\"1\" class=\"dataframe\">\n",
       "  <thead>\n",
       "    <tr style=\"text-align: right;\">\n",
       "      <th></th>\n",
       "      <th>Labels</th>\n",
       "      <th>Id</th>\n",
       "      <th>Date</th>\n",
       "      <th>Query</th>\n",
       "      <th>User</th>\n",
       "      <th>Text</th>\n",
       "    </tr>\n",
       "  </thead>\n",
       "  <tbody>\n",
       "    <tr>\n",
       "      <th>0</th>\n",
       "      <td>0</td>\n",
       "      <td>2205441133</td>\n",
       "      <td>Wed Jun 17 04:44:48 PDT 2009</td>\n",
       "      <td>NO_QUERY</td>\n",
       "      <td>Julie_oh</td>\n",
       "      <td>@tiedyeina lucky you! 6 more days</td>\n",
       "    </tr>\n",
       "    <tr>\n",
       "      <th>1</th>\n",
       "      <td>0</td>\n",
       "      <td>2205441225</td>\n",
       "      <td>Wed Jun 17 04:44:49 PDT 2009</td>\n",
       "      <td>NO_QUERY</td>\n",
       "      <td>KatieBug1112</td>\n",
       "      <td>Morning everyone! :-D  not in a good mood righ...</td>\n",
       "    </tr>\n",
       "    <tr>\n",
       "      <th>2</th>\n",
       "      <td>0</td>\n",
       "      <td>2205441321</td>\n",
       "      <td>Wed Jun 17 04:44:50 PDT 2009</td>\n",
       "      <td>NO_QUERY</td>\n",
       "      <td>jbh_dc</td>\n",
       "      <td>Back in rainy reston ... With a wife who has t...</td>\n",
       "    </tr>\n",
       "    <tr>\n",
       "      <th>3</th>\n",
       "      <td>0</td>\n",
       "      <td>2205441485</td>\n",
       "      <td>Wed Jun 17 04:44:51 PDT 2009</td>\n",
       "      <td>NO_QUERY</td>\n",
       "      <td>aaakritiLove</td>\n",
       "      <td>@jysla :S:S  whats wrong, dear?</td>\n",
       "    </tr>\n",
       "    <tr>\n",
       "      <th>4</th>\n",
       "      <td>0</td>\n",
       "      <td>2205441608</td>\n",
       "      <td>Wed Jun 17 04:44:52 PDT 2009</td>\n",
       "      <td>NO_QUERY</td>\n",
       "      <td>JackyDouglas</td>\n",
       "      <td>Hates the rain!</td>\n",
       "    </tr>\n",
       "  </tbody>\n",
       "</table>\n",
       "</div>"
      ],
      "text/plain": [
       "   Labels          Id                          Date     Query          User  \\\n",
       "0       0  2205441133  Wed Jun 17 04:44:48 PDT 2009  NO_QUERY      Julie_oh   \n",
       "1       0  2205441225  Wed Jun 17 04:44:49 PDT 2009  NO_QUERY  KatieBug1112   \n",
       "2       0  2205441321  Wed Jun 17 04:44:50 PDT 2009  NO_QUERY        jbh_dc   \n",
       "3       0  2205441485  Wed Jun 17 04:44:51 PDT 2009  NO_QUERY  aaakritiLove   \n",
       "4       0  2205441608  Wed Jun 17 04:44:52 PDT 2009  NO_QUERY  JackyDouglas   \n",
       "\n",
       "                                                Text  \n",
       "0                 @tiedyeina lucky you! 6 more days   \n",
       "1  Morning everyone! :-D  not in a good mood righ...  \n",
       "2  Back in rainy reston ... With a wife who has t...  \n",
       "3                    @jysla :S:S  whats wrong, dear?  \n",
       "4                                   Hates the rain!   "
      ]
     },
     "execution_count": 3,
     "metadata": {},
     "output_type": "execute_result"
    }
   ],
   "source": [
    "# Load the data\n",
    "dataframe = pd.read_csv(\"data/training.500000.processed.noemoticon.csv\", sep=',', names=['Labels','Id', 'Date', 'Query', 'User', 'Text'], encoding='ISO-8859-1', header=None)\n",
    "dataframe.head()"
   ]
  },
  {
   "cell_type": "code",
   "execution_count": 4,
   "metadata": {},
   "outputs": [
    {
     "name": "stdout",
     "output_type": "stream",
     "text": [
      "4    9477\n",
      "0    8475\n",
      "Name: Labels, dtype: int64\n"
     ]
    },
    {
     "data": {
      "text/plain": [
       "array([<matplotlib.axes._subplots.AxesSubplot object at 0x00000231505989B0>,\n",
       "       <matplotlib.axes._subplots.AxesSubplot object at 0x0000023144C18DD8>],\n",
       "      dtype=object)"
      ]
     },
     "execution_count": 4,
     "metadata": {},
     "output_type": "execute_result"
    },
    {
     "data": {
      "image/png": "[encoded data removed]",
      "text/plain": [
       "<Figure size 720x288 with 2 Axes>"
      ]
     },
     "metadata": {
      "needs_background": "light"
     },
     "output_type": "display_data"
    }
   ],
   "source": [
    "# Preprocess the data and display a histogram of the length of the text\n",
    "dataframe_subset = dataframe[230000:247952] #dataframe[795000:805000] Midpoint: 238476\n",
    "dataframe_subset = dataframe_subset.reset_index(drop=True)\n",
    "\n",
    "#To check if the data is equally balanced between the target classes\n",
    "print(dataframe_subset['Labels'].value_counts())\n",
    "\n",
    "twitterData = dataframe_subset.drop(columns=['Id', 'Date', 'Query', 'User'])\n",
    "twitterLabelledData = dataframe_subset.drop(columns=['Id', 'Date', 'Query', 'User'])\n",
    "\n",
    "twitterData.groupby('Labels').describe()\n",
    "twitterData['Length'] = twitterData['Text'].apply(len)\n",
    "twitterData.hist(column = 'Length', by = 'Labels', bins = 50, figsize = (10, 4))"
   ]
  },
  {
   "cell_type": "code",
   "execution_count": 5,
   "metadata": {},
   "outputs": [
    {
     "data": {
      "text/html": [
       "<div>\n",
       "<style scoped>\n",
       "    .dataframe tbody tr th:only-of-type {\n",
       "        vertical-align: middle;\n",
       "    }\n",
       "\n",
       "    .dataframe tbody tr th {\n",
       "        vertical-align: top;\n",
       "    }\n",
       "\n",
       "    .dataframe thead th {\n",
       "        text-align: right;\n",
       "    }\n",
       "</style>\n",
       "<table border=\"1\" class=\"dataframe\">\n",
       "  <thead>\n",
       "    <tr style=\"text-align: right;\">\n",
       "      <th></th>\n",
       "      <th>00</th>\n",
       "      <th>000</th>\n",
       "      <th>0000r0cx</th>\n",
       "      <th>0007</th>\n",
       "      <th>000th</th>\n",
       "      <th>00am</th>\n",
       "      <th>01</th>\n",
       "      <th>01000101</th>\n",
       "      <th>01614948343</th>\n",
       "      <th>018</th>\n",
       "      <th>...</th>\n",
       "      <th>½rmï</th>\n",
       "      <th>½s</th>\n",
       "      <th>½se</th>\n",
       "      <th>½stand</th>\n",
       "      <th>½t</th>\n",
       "      <th>½tï</th>\n",
       "      <th>½ve</th>\n",
       "      <th>½y</th>\n",
       "      <th>½ï</th>\n",
       "      <th>ã¼ã</th>\n",
       "    </tr>\n",
       "  </thead>\n",
       "  <tbody>\n",
       "    <tr>\n",
       "      <th>0</th>\n",
       "      <td>0</td>\n",
       "      <td>0</td>\n",
       "      <td>0</td>\n",
       "      <td>0</td>\n",
       "      <td>0</td>\n",
       "      <td>0</td>\n",
       "      <td>0</td>\n",
       "      <td>0</td>\n",
       "      <td>0</td>\n",
       "      <td>0</td>\n",
       "      <td>...</td>\n",
       "      <td>0</td>\n",
       "      <td>0</td>\n",
       "      <td>0</td>\n",
       "      <td>0</td>\n",
       "      <td>0</td>\n",
       "      <td>0</td>\n",
       "      <td>0</td>\n",
       "      <td>0</td>\n",
       "      <td>0</td>\n",
       "      <td>0</td>\n",
       "    </tr>\n",
       "    <tr>\n",
       "      <th>1</th>\n",
       "      <td>0</td>\n",
       "      <td>0</td>\n",
       "      <td>0</td>\n",
       "      <td>0</td>\n",
       "      <td>0</td>\n",
       "      <td>0</td>\n",
       "      <td>0</td>\n",
       "      <td>0</td>\n",
       "      <td>0</td>\n",
       "      <td>0</td>\n",
       "      <td>...</td>\n",
       "      <td>0</td>\n",
       "      <td>0</td>\n",
       "      <td>0</td>\n",
       "      <td>0</td>\n",
       "      <td>0</td>\n",
       "      <td>0</td>\n",
       "      <td>0</td>\n",
       "      <td>0</td>\n",
       "      <td>0</td>\n",
       "      <td>0</td>\n",
       "    </tr>\n",
       "    <tr>\n",
       "      <th>2</th>\n",
       "      <td>0</td>\n",
       "      <td>0</td>\n",
       "      <td>0</td>\n",
       "      <td>0</td>\n",
       "      <td>0</td>\n",
       "      <td>0</td>\n",
       "      <td>0</td>\n",
       "      <td>0</td>\n",
       "      <td>0</td>\n",
       "      <td>0</td>\n",
       "      <td>...</td>\n",
       "      <td>0</td>\n",
       "      <td>0</td>\n",
       "      <td>0</td>\n",
       "      <td>0</td>\n",
       "      <td>0</td>\n",
       "      <td>0</td>\n",
       "      <td>0</td>\n",
       "      <td>0</td>\n",
       "      <td>0</td>\n",
       "      <td>0</td>\n",
       "    </tr>\n",
       "    <tr>\n",
       "      <th>3</th>\n",
       "      <td>0</td>\n",
       "      <td>0</td>\n",
       "      <td>0</td>\n",
       "      <td>0</td>\n",
       "      <td>0</td>\n",
       "      <td>0</td>\n",
       "      <td>0</td>\n",
       "      <td>0</td>\n",
       "      <td>0</td>\n",
       "      <td>0</td>\n",
       "      <td>...</td>\n",
       "      <td>0</td>\n",
       "      <td>0</td>\n",
       "      <td>0</td>\n",
       "      <td>0</td>\n",
       "      <td>0</td>\n",
       "      <td>0</td>\n",
       "      <td>0</td>\n",
       "      <td>0</td>\n",
       "      <td>0</td>\n",
       "      <td>0</td>\n",
       "    </tr>\n",
       "    <tr>\n",
       "      <th>4</th>\n",
       "      <td>0</td>\n",
       "      <td>0</td>\n",
       "      <td>0</td>\n",
       "      <td>0</td>\n",
       "      <td>0</td>\n",
       "      <td>0</td>\n",
       "      <td>0</td>\n",
       "      <td>0</td>\n",
       "      <td>0</td>\n",
       "      <td>0</td>\n",
       "      <td>...</td>\n",
       "      <td>0</td>\n",
       "      <td>0</td>\n",
       "      <td>0</td>\n",
       "      <td>0</td>\n",
       "      <td>0</td>\n",
       "      <td>0</td>\n",
       "      <td>0</td>\n",
       "      <td>0</td>\n",
       "      <td>0</td>\n",
       "      <td>0</td>\n",
       "    </tr>\n",
       "  </tbody>\n",
       "</table>\n",
       "<p>5 rows × 27387 columns</p>\n",
       "</div>"
      ],
      "text/plain": [
       "   00  000  0000r0cx  0007  000th  00am  01  01000101  01614948343  018 ...   \\\n",
       "0   0    0         0     0      0     0   0         0            0    0 ...    \n",
       "1   0    0         0     0      0     0   0         0            0    0 ...    \n",
       "2   0    0         0     0      0     0   0         0            0    0 ...    \n",
       "3   0    0         0     0      0     0   0         0            0    0 ...    \n",
       "4   0    0         0     0      0     0   0         0            0    0 ...    \n",
       "\n",
       "   ½rmï  ½s  ½se  ½stand  ½t  ½tï  ½ve  ½y  ½ï  ã¼ã  \n",
       "0     0   0    0       0   0    0    0   0   0    0  \n",
       "1     0   0    0       0   0    0    0   0   0    0  \n",
       "2     0   0    0       0   0    0    0   0   0    0  \n",
       "3     0   0    0       0   0    0    0   0   0    0  \n",
       "4     0   0    0       0   0    0    0   0   0    0  \n",
       "\n",
       "[5 rows x 27387 columns]"
      ]
     },
     "execution_count": 5,
     "metadata": {},
     "output_type": "execute_result"
    }
   ],
   "source": [
    "# Convert the data to a frequency matrix\n",
    "twitterText = twitterData.drop(columns=['Length', 'Labels'])\n",
    "dfToA = twitterText.values.flatten()\n",
    "count_vector = CountVectorizer(stop_words='english')\n",
    "count_vector.fit(dfToA)\n",
    "names = count_vector.get_feature_names()\n",
    "doc_array = count_vector.transform(dfToA).toarray()\n",
    "\n",
    "# Add the column names back in to show the frequescy matrix\n",
    "frequency_matrix = pd.DataFrame(data=doc_array, columns=names)\n",
    "frequency_matrix.head()"
   ]
  },
  {
   "cell_type": "code",
   "execution_count": 6,
   "metadata": {},
   "outputs": [
    {
     "name": "stdout",
     "output_type": "stream",
     "text": [
      "In splitData\n",
      " \n",
      "Number of rows in the total set: 17952\n",
      "Number of rows in the training set: 13464\n",
      "Number of rows in the test set: 4488\n",
      " \n",
      "   Labels                                               Text\n",
      "0       0                               i need holiday...   \n",
      "1       0                @MsA1sinceday1 forgot about me  lol\n",
      "2       0  I'm not sure why I bother fixing my hair in th...\n",
      "3       0  @MaryRincon its mystery disease, i'm negative ...\n",
      "4       0  I miss L.A!!! And I miss my aunt!!!!And Carlos...\n",
      " \n",
      "In cvDataset\n",
      "   00  000  0007  000th  01  01000101  01614948343  018  01yt  02 ...   ½nes  \\\n",
      "0   0    0     0      0   0         0            0    0     0   0 ...      0   \n",
      "1   0    0     0      0   0         0            0    0     0   0 ...      0   \n",
      "2   0    0     0      0   0         0            0    0     0   0 ...      0   \n",
      "3   0    0     0      0   0         0            0    0     0   0 ...      0   \n",
      "4   0    0     0      0   0         0            0    0     0   0 ...      0   \n",
      "\n",
      "   ½re  ½rmï  ½s  ½se  ½stand  ½t  ½tï  ½ve  ã¼ã  \n",
      "0    0     0   0    0       0   0    0    0    0  \n",
      "1    0     0   0    0       0   0    0    0    0  \n",
      "2    0     0   0    0       0   0    0    0    0  \n",
      "3    0     0   0    0       0   0    0    0    0  \n",
      "4    0     0   0    0       0   0    0    0    0  \n",
      "\n",
      "[5 rows x 22406 columns]\n",
      " \n",
      "In fitNaiveBayes\n",
      "Training time: 0.004012s\n",
      " \n",
      "In predict\n",
      "In printScores\n",
      " \n",
      "Accuracy score:  0.7511\n",
      "Precision score:  0.7605\n",
      "Recall score:  0.7723\n",
      "F1 score:  0.7664\n",
      " \n",
      "In plotConfusionMatrix\n",
      "In plot_confusion_matrix\n",
      "Confusion matrix, without normalization\n",
      " \n",
      "In plot_confusion_matrix\n",
      "Normalized confusion matrix\n",
      " \n",
      "In printTP_FP_TN_FN\n",
      "True Negatives:  1539\n",
      "False Positives:  577\n",
      "False Negatives:  540\n",
      "True Positives:  1832\n",
      " \n",
      "This twit is positive (4)\n",
      "This twit is negative (0)\n"
     ]
    },
    {
     "data": {
      "text/plain": [
       "array([0], dtype=int64)"
      ]
     },
     "execution_count": 6,
     "metadata": {},
     "output_type": "execute_result"
    },
    {
     "data": {
      "image/png": "[encoded data removed]",
      "text/plain": [
       "<Figure size 432x288 with 2 Axes>"
      ]
     },
     "metadata": {
      "needs_background": "light"
     },
     "output_type": "display_data"
    },
    {
     "data": {
      "image/png": "[encoded data removed]",
      "text/plain": [
       "<Figure size 432x288 with 2 Axes>"
      ]
     },
     "metadata": {
      "needs_background": "light"
     },
     "output_type": "display_data"
    }
   ],
   "source": [
    "# Create, fit and test the baseline model\n",
    "from models.baseline_model import BaselineModel\n",
    "\n",
    "baseline_model = BaselineModel(twitterLabelledData, debug=True)\n",
    "baseline_model.splitData()\n",
    "baseline_model.cvDataset()\n",
    "baseline_model.fitNaiveBayes()\n",
    "baseline_model.predict()\n",
    "baseline_model.printScores()\n",
    "baseline_model.plotConfusionMatrix()\n",
    "baseline_model.testTwit(twit=\"Superb, this companies after sale service is great :-)\")\n",
    "baseline_model.testTwit(twit=\"Argh, this companies is crap\")"
   ]
  },
  {
   "cell_type": "code",
   "execution_count": 7,
   "metadata": {},
   "outputs": [
    {
     "name": "stdout",
     "output_type": "stream",
     "text": [
      "In splitData\n",
      " \n",
      "Number of rows in the total set: 17952\n",
      "Number of rows in the training set: 13464\n",
      "Number of rows in the test set: 4488\n",
      " \n",
      "   Labels                                               Text\n",
      "0       0                               i need holiday...   \n",
      "1       0                @MsA1sinceday1 forgot about me  lol\n",
      "2       0  I'm not sure why I bother fixing my hair in th...\n",
      "3       0  @MaryRincon its mystery disease, i'm negative ...\n",
      "4       0  I miss L.A!!! And I miss my aunt!!!!And Carlos...\n",
      " \n",
      "In cvDataset\n",
      "   00  000  0007  000th  01  01000101  01614948343  018  01yt  02 ...   ½nes  \\\n",
      "0   0    0     0      0   0         0            0    0     0   0 ...      0   \n",
      "1   0    0     0      0   0         0            0    0     0   0 ...      0   \n",
      "2   0    0     0      0   0         0            0    0     0   0 ...      0   \n",
      "3   0    0     0      0   0         0            0    0     0   0 ...      0   \n",
      "4   0    0     0      0   0         0            0    0     0   0 ...      0   \n",
      "\n",
      "   ½re  ½rmï  ½s  ½se  ½stand  ½t  ½tï  ½ve  ã¼ã  \n",
      "0    0     0   0    0       0   0    0    0    0  \n",
      "1    0     0   0    0       0   0    0    0    0  \n",
      "2    0     0   0    0       0   0    0    0    0  \n",
      "3    0     0   0    0       0   0    0    0    0  \n",
      "4    0     0   0    0       0   0    0    0    0  \n",
      "\n",
      "[5 rows x 22406 columns]\n",
      " \n",
      "In fitSVM\n",
      "Training time: 42.255381s\n",
      " \n",
      "In predict\n",
      "In printScores\n",
      " \n",
      "Accuracy score:  0.7299\n",
      "Precision score:  0.7350\n",
      "Recall score:  0.7648\n",
      "F1 score:  0.7496\n",
      " \n",
      "In plotConfusionMatrix\n",
      "In plot_confusion_matrix\n",
      "Confusion matrix, without normalization\n",
      " \n",
      "In plot_confusion_matrix\n",
      "Normalized confusion matrix\n",
      " \n",
      "In printTP_FP_TN_FN\n",
      "True Negatives:  1462\n",
      "False Positives:  654\n",
      "False Negatives:  558\n",
      "True Positives:  1814\n",
      " \n",
      "This twit is positive (4)\n",
      "This twit is negative (0)\n"
     ]
    },
    {
     "data": {
      "text/plain": [
       "array([0], dtype=int64)"
      ]
     },
     "execution_count": 7,
     "metadata": {},
     "output_type": "execute_result"
    },
    {
     "data": {
      "image/png": "[encoded data removed]",
      "text/plain": [
       "<Figure size 432x288 with 2 Axes>"
      ]
     },
     "metadata": {
      "needs_background": "light"
     },
     "output_type": "display_data"
    },
    {
     "data": {
      "image/png": "[encoded data removed]",
      "text/plain": [
       "<Figure size 432x288 with 2 Axes>"
      ]
     },
     "metadata": {
      "needs_background": "light"
     },
     "output_type": "display_data"
    }
   ],
   "source": [
    "# Create, fit and test the SVM model with CountVectorizer\n",
    "cvmodel = Model(twitterLabelledData, debug=True)\n",
    "cvmodel.splitData()\n",
    "cvmodel.cvDataset()\n",
    "cvmodel.fitSVM()\n",
    "cvmodel.predict()\n",
    "cvmodel.printScores()\n",
    "cvmodel.plotConfusionMatrix()\n",
    "cvmodel.testTwit(twit=\"Superb, this companies after sale service is great :-)\")\n",
    "cvmodel.testTwit(twit=\"Argh, this companies is crap\")"
   ]
  },
  {
   "cell_type": "code",
   "execution_count": 8,
   "metadata": {},
   "outputs": [
    {
     "name": "stdout",
     "output_type": "stream",
     "text": [
      "In splitData\n",
      " \n",
      "Number of rows in the total set: 17952\n",
      "Number of rows in the training set: 13464\n",
      "Number of rows in the test set: 4488\n",
      " \n",
      "   Labels                                               Text\n",
      "0       0                               i need holiday...   \n",
      "1       0                @MsA1sinceday1 forgot about me  lol\n",
      "2       0  I'm not sure why I bother fixing my hair in th...\n",
      "3       0  @MaryRincon its mystery disease, i'm negative ...\n",
      "4       0  I miss L.A!!! And I miss my aunt!!!!And Carlos...\n",
      " \n",
      "In tfidfDataset\n",
      "    00  000  0007  000th   01  01000101  01614948343  018  01yt   02 ...   \\\n",
      "0  0.0  0.0   0.0    0.0  0.0       0.0          0.0  0.0   0.0  0.0 ...    \n",
      "1  0.0  0.0   0.0    0.0  0.0       0.0          0.0  0.0   0.0  0.0 ...    \n",
      "2  0.0  0.0   0.0    0.0  0.0       0.0          0.0  0.0   0.0  0.0 ...    \n",
      "3  0.0  0.0   0.0    0.0  0.0       0.0          0.0  0.0   0.0  0.0 ...    \n",
      "4  0.0  0.0   0.0    0.0  0.0       0.0          0.0  0.0   0.0  0.0 ...    \n",
      "\n",
      "   ½nes  ½re  ½rmï   ½s  ½se  ½stand   ½t  ½tï  ½ve  ã¼ã  \n",
      "0   0.0  0.0   0.0  0.0  0.0     0.0  0.0  0.0  0.0  0.0  \n",
      "1   0.0  0.0   0.0  0.0  0.0     0.0  0.0  0.0  0.0  0.0  \n",
      "2   0.0  0.0   0.0  0.0  0.0     0.0  0.0  0.0  0.0  0.0  \n",
      "3   0.0  0.0   0.0  0.0  0.0     0.0  0.0  0.0  0.0  0.0  \n",
      "4   0.0  0.0   0.0  0.0  0.0     0.0  0.0  0.0  0.0  0.0  \n",
      "\n",
      "[5 rows x 22406 columns]\n",
      " \n",
      "In fitSVM\n",
      "Training time: 23.523170s\n",
      " \n",
      "In predict\n",
      "In printScores\n",
      " \n",
      "Accuracy score:  0.7498\n",
      "Precision score:  0.7499\n",
      "Recall score:  0.7901\n",
      "F1 score:  0.7695\n",
      " \n",
      "In plotConfusionMatrix\n",
      "In plot_confusion_matrix\n",
      "Confusion matrix, without normalization\n",
      " \n",
      "In plot_confusion_matrix\n",
      "Normalized confusion matrix\n",
      " \n",
      "In printTP_FP_TN_FN\n",
      "True Negatives:  1491\n",
      "False Positives:  625\n",
      "False Negatives:  498\n",
      "True Positives:  1874\n",
      " \n",
      "This twit is positive (4)\n",
      "This twit is negative (0)\n"
     ]
    },
    {
     "data": {
      "text/plain": [
       "array([0], dtype=int64)"
      ]
     },
     "execution_count": 8,
     "metadata": {},
     "output_type": "execute_result"
    },
    {
     "data": {
      "image/png": "[encoded data removed]",
      "text/plain": [
       "<Figure size 432x288 with 2 Axes>"
      ]
     },
     "metadata": {
      "needs_background": "light"
     },
     "output_type": "display_data"
    },
    {
     "data": {
      "image/png": "[encoded data removed]",
      "text/plain": [
       "<Figure size 432x288 with 2 Axes>"
      ]
     },
     "metadata": {
      "needs_background": "light"
     },
     "output_type": "display_data"
    }
   ],
   "source": [
    "# Create, fit and test the SVM model with TfidfVectorizer\n",
    "tfidfmodel = Model(twitterLabelledData, debug=True)\n",
    "tfidfmodel.splitData()\n",
    "tfidfmodel.tfidfDataset()\n",
    "tfidfmodel.fitSVM()\n",
    "tfidfmodel.predict()\n",
    "tfidfmodel.printScores()\n",
    "tfidfmodel.plotConfusionMatrix()\n",
    "tfidfmodel.testTwit(twit=\"Superb, this companies after sale service is great :-)\")\n",
    "tfidfmodel.testTwit(twit=\"Argh, this companies is crap\")"
   ]
  }
 ],
 "metadata": {
  "anaconda-cloud": {},
  "kernelspec": {
   "display_name": "Python 3",
   "language": "python",
   "name": "python3"
  },
  "language_info": {
   "codemirror_mode": {
    "name": "ipython",
    "version": 3
   },
   "file_extension": ".py",
   "mimetype": "text/x-python",
   "name": "python",
   "nbconvert_exporter": "python",
   "pygments_lexer": "ipython3",
   "version": "3.7.1"
  }
 },
 "nbformat": 4,
 "nbformat_minor": 2
}
